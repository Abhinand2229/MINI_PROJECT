{
  "nbformat": 4,
  "nbformat_minor": 0,
  "metadata": {
    "colab": {
      "provenance": []
    },
    "kernelspec": {
      "name": "python3",
      "display_name": "Python 3"
    },
    "language_info": {
      "name": "python"
    }
  },
  "cells": [
    {
      "cell_type": "code",
      "execution_count": null,
      "metadata": {
        "colab": {
          "base_uri": "https://localhost:8080/"
        },
        "id": "pquuGyxupede",
        "outputId": "673cae7f-01a0-44e7-f9f4-59d8dd8fa25d"
      },
      "outputs": [
        {
          "output_type": "stream",
          "name": "stdout",
          "text": [
            "\n",
            "CO CO 1 Indirect: 2.72\n",
            "  Number of Strongly Agree: 31\n",
            "  Number of Agree: 7\n",
            "  Number of Neutral: 0\n",
            "  Number of Disagree: 0\n",
            "  Number of Strongly Disagree: 0\n",
            "\n",
            "CO CO2 Indirect: 2.57\n",
            "  Number of Strongly Agree: 29\n",
            "  Number of Agree: 7\n",
            "  Number of Neutral: 2\n",
            "  Number of Disagree: 0\n",
            "  Number of Strongly Disagree: 0\n",
            "\n",
            "CO CO3 Indirect: 2.25\n",
            "  Number of Strongly Agree: 24\n",
            "  Number of Agree: 10\n",
            "  Number of Neutral: 3\n",
            "  Number of Disagree: 1\n",
            "  Number of Strongly Disagree: 0\n",
            "\n",
            "CO CO4 Indirect: 2.41\n",
            "  Number of Strongly Agree: 25\n",
            "  Number of Agree: 11\n",
            "  Number of Neutral: 2\n",
            "  Number of Disagree: 0\n",
            "  Number of Strongly Disagree: 0\n",
            "\n",
            "CO CO5 Indirect: 2.49\n",
            "  Number of Strongly Agree: 27\n",
            "  Number of Agree: 9\n",
            "  Number of Neutral: 2\n",
            "  Number of Disagree: 0\n",
            "  Number of Strongly Disagree: 0\n"
          ]
        }
      ],
      "source": [
        "\n",
        "import pandas as pd\n",
        "\n",
        "# Define the CSV file path\n",
        "csv_file_path = '/content/survey_form_ads - Sheet1 (1).csv'\n",
        "\n",
        "# Read the CSV file into a DataFrame\n",
        "df = pd.read_csv(csv_file_path)\n",
        "\n",
        "# Specify the columns to check\n",
        "columns_to_check = [\"CO 1\", \"CO2\", \"CO3\", \"CO4\", \"CO5\"]\n",
        "\n",
        "# Specify the strings to count\n",
        "strings_to_count = [\"Strongly Agree\", \"Agree\", \"Neutral\", \"Disagree\", \"Strongly Disagree\"]\n",
        "\n",
        "# Initialize a dictionary to store the counts for each string in each column\n",
        "count_dict = {column: {string: 0 for string in strings_to_count} for column in columns_to_check}\n",
        "\n",
        "# Loop through each column and count the occurrences of the specified strings\n",
        "for column in columns_to_check:\n",
        "    for string in strings_to_count:\n",
        "        count_dict[column][string] += df[column].eq(string).sum()\n",
        "\n",
        "# Calculate CO indirect for each CO\n",
        "co_counts = {column: sum(count_dict[column].values()) for column in columns_to_check}\n",
        "\n",
        "for column in columns_to_check:\n",
        "    num_s = count_dict[column][\"Strongly Agree\"]\n",
        "    num_a = count_dict[column][\"Agree\"]\n",
        "    num_n = count_dict[column][\"Neutral\"]\n",
        "    num_d = count_dict[column][\"Disagree\"]\n",
        "    num_x = count_dict[column][\"Strongly Disagree\"]\n",
        "\n",
        "    num_co = co_counts[column]\n",
        "\n",
        "    co_indirect = 1.5 * ((-2 * num_x + -1 * num_d + 0 * num_n + 1 * num_a + 2 * num_s) / num_co)\n",
        "\n",
        "    # Round the co_indirect to two decimal places\n",
        "    co_indirect_rounded = round(co_indirect, 2)\n",
        "\n",
        "    print(f\"\\nCO {column} Indirect: {co_indirect_rounded}\")\n",
        "    print(f\"  Number of Strongly Agree: {num_s}\")\n",
        "    print(f\"  Number of Agree: {num_a}\")\n",
        "    print(f\"  Number of Neutral: {num_n}\")\n",
        "    print(f\"  Number of Disagree: {num_d}\")\n",
        "    print(f\"  Number of Strongly Disagree: {num_x}\")\n",
        "\n",
        "\n",
        "\n",
        "\n",
        "\n",
        "\n",
        "\n",
        "\n",
        "\n",
        "\n"
      ]
    }
  ]
}